{
 "cells": [
  {
   "cell_type": "code",
   "execution_count": 1,
   "id": "383e51a8-3b2c-4147-83b7-d20a89db4df5",
   "metadata": {},
   "outputs": [],
   "source": [
    "%load_ext sql \n",
    "%sql sqlite://"
   ]
  },
  {
   "cell_type": "code",
   "execution_count": 2,
   "id": "9763b23a-374f-4de7-92a2-28ead4bba18a",
   "metadata": {},
   "outputs": [
    {
     "name": "stdout",
     "output_type": "stream",
     "text": [
      " * sqlite://\n",
      "Done.\n"
     ]
    },
    {
     "data": {
      "text/plain": [
       "[]"
      ]
     },
     "execution_count": 2,
     "metadata": {},
     "output_type": "execute_result"
    }
   ],
   "source": [
    "%%sql \n",
    "CREATE TABLE sailors(\n",
    "    sid INTEGER PRIMARY KEY,\n",
    "    sname CHAR(20), \n",
    "    rating INTEGER,\n",
    "    age REAL)"
   ]
  },
  {
   "cell_type": "code",
   "execution_count": 6,
   "id": "9a8dd5c0-64f2-4c39-9cb9-3cdbda6ef5f5",
   "metadata": {},
   "outputs": [
    {
     "name": "stdout",
     "output_type": "stream",
     "text": [
      " * sqlite://\n",
      "Done.\n"
     ]
    },
    {
     "data": {
      "text/html": [
       "<table>\n",
       "    <thead>\n",
       "        <tr>\n",
       "            <th>sid</th>\n",
       "            <th>sname</th>\n",
       "            <th>rating</th>\n",
       "            <th>age</th>\n",
       "        </tr>\n",
       "    </thead>\n",
       "    <tbody>\n",
       "    </tbody>\n",
       "</table>"
      ],
      "text/plain": [
       "[]"
      ]
     },
     "execution_count": 6,
     "metadata": {},
     "output_type": "execute_result"
    }
   ],
   "source": [
    "%sql SELECT * FROM sailors"
   ]
  },
  {
   "cell_type": "code",
   "execution_count": 8,
   "id": "14c36fa8-39f7-4a00-9902-da5397771d2e",
   "metadata": {},
   "outputs": [
    {
     "name": "stdout",
     "output_type": "stream",
     "text": [
      " * sqlite://\n",
      "1 rows affected.\n"
     ]
    },
    {
     "data": {
      "text/plain": [
       "[]"
      ]
     },
     "execution_count": 8,
     "metadata": {},
     "output_type": "execute_result"
    }
   ],
   "source": [
    "%sql INSERT INTO sailors VALUES(22, 'Dustin', 7, 45.0)"
   ]
  },
  {
   "cell_type": "code",
   "execution_count": 9,
   "id": "79429201-7c8f-4f9c-969f-1b05f63e00e5",
   "metadata": {},
   "outputs": [
    {
     "name": "stdout",
     "output_type": "stream",
     "text": [
      " * sqlite://\n",
      "Done.\n"
     ]
    },
    {
     "data": {
      "text/html": [
       "<table>\n",
       "    <thead>\n",
       "        <tr>\n",
       "            <th>sid</th>\n",
       "            <th>sname</th>\n",
       "            <th>rating</th>\n",
       "            <th>age</th>\n",
       "        </tr>\n",
       "    </thead>\n",
       "    <tbody>\n",
       "        <tr>\n",
       "            <td>22</td>\n",
       "            <td>Dustin</td>\n",
       "            <td>7</td>\n",
       "            <td>45.0</td>\n",
       "        </tr>\n",
       "    </tbody>\n",
       "</table>"
      ],
      "text/plain": [
       "[(22, 'Dustin', 7, 45.0)]"
      ]
     },
     "execution_count": 9,
     "metadata": {},
     "output_type": "execute_result"
    }
   ],
   "source": [
    "%sql SELECT * FROM sailors"
   ]
  },
  {
   "cell_type": "code",
   "execution_count": null,
   "id": "f7d209d6-5c7e-400a-a009-08cc7d4fc3cb",
   "metadata": {},
   "outputs": [],
   "source": [
    "%%sql \n",
    "SELECT sname\n",
    "FROM sailors \n",
    "WHERE rating >= "
   ]
  }
 ],
 "metadata": {
  "kernelspec": {
   "display_name": "Python 3 (ipykernel)",
   "language": "python",
   "name": "python3"
  },
  "language_info": {
   "codemirror_mode": {
    "name": "ipython",
    "version": 3
   },
   "file_extension": ".py",
   "mimetype": "text/x-python",
   "name": "python",
   "nbconvert_exporter": "python",
   "pygments_lexer": "ipython3",
   "version": "3.11.5"
  }
 },
 "nbformat": 4,
 "nbformat_minor": 5
}
